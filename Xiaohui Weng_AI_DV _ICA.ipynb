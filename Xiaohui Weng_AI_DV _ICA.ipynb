{
 "cells": [
  {
   "cell_type": "markdown",
   "id": "ddf15067-3cfd-4ddd-a2ca-8dd0dfda7199",
   "metadata": {},
   "source": [
    "- variables:Peter,Juan,Jim,Jane,Mary,Bruce,Anita\n",
    "\n",
    "- Domain:\n",
    "\n",
    "- Name \tAbilities\r\n",
    "- \n",
    "Peter \tPython and AI\n",
    "- \r\n",
    "Juan \tWeb and A\n",
    "- I\r\n",
    "Jim \tAI and Syste\n",
    "- ms\r\n",
    "Jane \tPython and Datab\n",
    "- ase\r\n",
    "Mary \tWeb and Sys\n",
    "- tems\r\n",
    "Bruce \tSystems and P\n",
    "- ython\r\n",
    "Anitan \tWed AI\n",
    "\n",
    "\n",
    "\n",
    "\n",
    "-----\n",
    "Con\n",
    "r- apython)\n",
    "\n",
    "- (but Ciara know python, so she needs hired 1 more people whos python)y\n",
    " \n",
    "- thon:\n",
    "- 2\n",
    "AI:2\n",
    "- \n",
    "Web:1\n",
    "Data\n",
    "- bse:1\n",
    "s\n",
    "ystem:1"
   ]
  },
  {
   "cell_type": "code",
   "execution_count": 40,
   "id": "ee781c2c-c048-4644-991e-18bdafa71280",
   "metadata": {},
   "outputs": [],
   "source": [
    "import constraint"
   ]
  },
  {
   "cell_type": "code",
   "execution_count": 38,
   "id": "4e6f0c84-b6cb-4a38-9e35-a217af29ce04",
   "metadata": {},
   "outputs": [],
   "source": [
    "HireTeam = constraint.Problem()"
   ]
  },
  {
   "cell_type": "code",
   "execution_count": 39,
   "id": "c504bab1-4f4b-45ca-9886-780dbffa3afd",
   "metadata": {},
   "outputs": [],
   "source": [
    "## define\n",
    "candidates = {\n",
    "    'Peter': ['Python', 'AI'],\n",
    "    'Juan': ['Web', 'AI'],\n",
    "    'Jim': ['AI', 'Systems'],\n",
    "    'Jane': ['Python', 'Database'],\n",
    "    'Mary': ['Web', 'Systems'],\n",
    "    'Bruce': ['Systems', 'Python'],\n",
    "    'Anita': ['Web', 'AI']\n",
    "}"
   ]
  },
  {
   "cell_type": "code",
   "execution_count": null,
   "id": "cf130333-106f-47ae-ae31-57ce1d3c3fb6",
   "metadata": {},
   "outputs": [],
   "source": []
  }
 ],
 "metadata": {
  "kernelspec": {
   "display_name": "Python 3 (ipykernel)",
   "language": "python",
   "name": "python3"
  },
  "language_info": {
   "codemirror_mode": {
    "name": "ipython",
    "version": 3
   },
   "file_extension": ".py",
   "mimetype": "text/x-python",
   "name": "python",
   "nbconvert_exporter": "python",
   "pygments_lexer": "ipython3",
   "version": "3.11.5"
  }
 },
 "nbformat": 4,
 "nbformat_minor": 5
}
