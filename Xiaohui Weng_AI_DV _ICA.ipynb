{
 "cells": [
  {
   "cell_type": "markdown",
   "id": "ddf15067-3cfd-4ddd-a2ca-8dd0dfda7199",
   "metadata": {},
   "source": [
    "- variables:Peter,Juan,Jim,Jane,Mary,Bruce,Anitaystem:1"
   ]
  },
  {
   "cell_type": "markdown",
   "id": "c1fc461c-9fa3-479e-9d7f-1a56a96ccc63",
   "metadata": {},
   "source": [
    "- Domain:\n",
    "\n",
    "- Name \tAbilities\n",
    "\n",
    "- Peter Python and AI\n",
    "\n",
    "- Juan \tWeb and AI\n",
    "\n",
    "- Jim \tAI and Systems\n",
    "\n",
    "- Jane \tPython and Database\n",
    "\n",
    "- Mary \tWeb and Systems\n",
    "\n",
    "- Bruce Systems and Python\n",
    "\n",
    "- Anita Web and AI"
   ]
  },
  {
   "cell_type": "markdown",
   "id": "dae45954-9d3c-49fa-97b4-8daae2600b56",
   "metadata": {},
   "source": [
    "Constraint\n",
    "\n",
    "- python:2\n",
    "\n",
    "- (but Ciara know python, so she needs hired 1 more people whos python)\n",
    " \n",
    "- AI:2\n",
    "\n",
    "- Web:1\n",
    "\n",
    "- Database:1\n",
    "\n",
    "- system:1"
   ]
  },
  {
   "cell_type": "code",
   "execution_count": 40,
   "id": "ee781c2c-c048-4644-991e-18bdafa71280",
   "metadata": {},
   "outputs": [],
   "source": [
    "import constraint"
   ]
  },
  {
   "cell_type": "code",
   "execution_count": 38,
   "id": "4e6f0c84-b6cb-4a38-9e35-a217af29ce04",
   "metadata": {},
   "outputs": [],
   "source": [
    "HireTeam = constraint.Problem()"
   ]
  },
  {
   "cell_type": "code",
   "execution_count": 43,
   "id": "c504bab1-4f4b-45ca-9886-780dbffa3afd",
   "metadata": {},
   "outputs": [],
   "source": [
    "## define variables and domain\n",
    "candidates = {\n",
    "    'Peter': ['Python', 'AI'],\n",
    "    'Juan': ['Web', 'AI'],\n",
    "    'Jim': ['AI', 'Systems'],\n",
    "    'Jane': ['Python', 'Database'],\n",
    "    'Mary': ['Web', 'Systems'],\n",
    "    'Bruce': ['Systems', 'Python'],\n",
    "    'Anita': ['Web', 'AI']\n",
    "}"
   ]
  },
  {
   "cell_type": "code",
   "execution_count": 45,
   "id": "cf130333-106f-47ae-ae31-57ce1d3c3fb6",
   "metadata": {},
   "outputs": [],
   "source": [
    "## add varbles and domain to HireTeam\n",
    "for person, domains in candidates.items():\n",
    "    HireTeam.addVariable(person, domains)"
   ]
  },
  {
   "cell_type": "code",
   "execution_count": null,
   "id": "64aaa507-7556-4d91-a024-21db2675ca68",
   "metadata": {},
   "outputs": [],
   "source": []
  }
 ],
 "metadata": {
  "kernelspec": {
   "display_name": "Python 3 (ipykernel)",
   "language": "python",
   "name": "python3"
  },
  "language_info": {
   "codemirror_mode": {
    "name": "ipython",
    "version": 3
   },
   "file_extension": ".py",
   "mimetype": "text/x-python",
   "name": "python",
   "nbconvert_exporter": "python",
   "pygments_lexer": "ipython3",
   "version": "3.11.5"
  }
 },
 "nbformat": 4,
 "nbformat_minor": 5
}
