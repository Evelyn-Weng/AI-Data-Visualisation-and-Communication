{
 "cells": [
  {
   "cell_type": "markdown",
   "id": "ddf15067-3cfd-4ddd-a2ca-8dd0dfda7199",
   "metadata": {},
   "source": [
    "- variables:Peter,Juan,Jim,Jane,Mary,Bruce,Anita,Ciaray"
   ]
  },
  {
   "cell_type": "markdown",
   "id": "c1fc461c-9fa3-479e-9d7f-1a56a96ccc63",
   "metadata": {},
   "source": [
    "- Domain:\n",
    "\n",
    "- Name \tAbilities\n",
    "\n",
    "- Peter Python and AI\n",
    "\n",
    "- Juan \tWeb and AI\n",
    "\n",
    "- Jim \tAI and Systems\n",
    "\n",
    "- Jane \tPython and Database\n",
    "\n",
    "- Mary \tWeb and Systems\n",
    "\n",
    "- Bruce Systems and Python\n",
    "\n",
    "- Anita Web and AI"
   ]
  },
  {
   "cell_type": "markdown",
   "id": "dae45954-9d3c-49fa-97b4-8daae2600b56",
   "metadata": {},
   "source": [
    "Constraint\n",
    "\n",
    "- python:2\n",
    "\n",
    "- (but Ciara knows python, so she needs hire 1 more person whos python)\n",
    " \n",
    "- AI:2\n",
    "\n",
    "- Web:1\n",
    "\n",
    "- Database:1\n",
    "\n",
    "- system:1\n",
    "\n",
    "- hire 3 people"
   ]
  },
  {
   "cell_type": "code",
   "execution_count": 51,
   "id": "5d7fa4d9-b92e-4d21-8c6a-c68f00becc2c",
   "metadata": {},
   "outputs": [],
   "source": [
    "##pip install ortools\n",
    "## https://www.youtube.com/watch?v=_e64FiDWvqs\n",
    "## https://www.youtube.com/watch?v=4cCS8rrYT14&list=TLPQMDkwMTIwMjSKwtLQ5WHKDw&index=2\n",
    "## https://developers.google.com/optimization/reference/python/sat/python/cp_model\n",
    "## https://ics.uci.edu/~dechter/courses/ics-275/fall-2020/slides/OR-Tools_CP-SAT_Solver_Tutorial.pdf\n"
   ]
  },
  {
   "cell_type": "markdown",
   "id": "ee236150-f8a8-4341-8713-11c7917a59fd",
   "metadata": {},
   "source": [
    "## Scenario 1"
   ]
  },
  {
   "cell_type": "code",
   "execution_count": 52,
   "id": "e506de16-12d4-43e0-a1b2-e0d897ddc2bb",
   "metadata": {},
   "outputs": [],
   "source": [
    "from ortools.sat.python import cp_model\n",
    "from itertools import combinations\n",
    "\n",
    "# define the variables and domains\n",
    "candidates = {\n",
    "    \"Peter\": [\"Python\", \"AI\"],\n",
    "    \"Juan\": [\"Web\", \"AI\"],\n",
    "    \"Jim\": [\"AI\", \"Systems\"],\n",
    "    \"Jane\": [\"Python\", \"Database\"],\n",
    "    \"Mary\": [\"Web\", \"Systems\"],\n",
    "    \"Bruce\": [\"Systems\", \"Python\"],\n",
    "    \"Anita\": [\"Web\", \"AI\"],\n",
    "    \"Ciara\": [\"Python\"]\n",
    "}\n",
    "\n",
    "# skills requires\n",
    "listSkills = [\"Python\", \"AI\", \"Web\", \"Database\", \"Systems\"]"
   ]
  },
  {
   "cell_type": "code",
   "execution_count": 53,
   "id": "f4298284-40d9-48a0-9319-4a0f8a9be852",
   "metadata": {},
   "outputs": [],
   "source": [
    "# Create a HireTeam CP model\n",
    "HireTeam = cp_model.CpModel()\n",
    "\n",
    "# peopleSelected: 0 if not selected, 1 if selected\n",
    "peopleSelected = {person: HireTeam.NewBoolVar(person) for person in candidates}"
   ]
  },
  {
   "cell_type": "code",
   "execution_count": 54,
   "id": "12908ec3-0293-487b-ab13-c39bb3ad5092",
   "metadata": {},
   "outputs": [
    {
     "name": "stdout",
     "output_type": "stream",
     "text": [
      "Hire Team:\n",
      "Jane\n",
      "Jim\n",
      "Juan\n",
      "\n",
      "Hire Team:\n",
      "Anita\n",
      "Jane\n",
      "Jim\n",
      "\n"
     ]
    }
   ],
   "source": [
    "# 1st constraint, Ciara has Python skill\n",
    "HireTeam.Add(peopleSelected[\"Ciara\"] == 1)\n",
    "\n",
    "# 2nd constrain, hire 3 people\n",
    "# and sumup the number is people who have been selected\n",
    "HireTeam.Add(sum(peopleSelected.values()) == 3)\n",
    "\n",
    "# Constraint need check all skills that require\n",
    "for skill in listSkills:\n",
    "    HireTeam.Add(sum(peopleSelected[person] for person, skills in candidates.items() if skill in skills) >= 1)\n",
    "\n",
    "# Backtracking function with constraint checking\n",
    "def backtrack(assignment, start_index=0):\n",
    "    if len(assignment) == 3 and satisfies_constraints(assignment):\n",
    "        return [sorted(assignment)]  # Sort the result\n",
    "    else:\n",
    "        result = []\n",
    "        for person in peopleSelected.keys():\n",
    "            if person not in assignment:\n",
    "                result.extend(backtrack(assignment + [person], start_index))\n",
    "        return result\n",
    "\n",
    "# Constraint satisfaction function\n",
    "def satisfies_constraints(solutions):\n",
    "    combined_skills = [skill for person in solutions for skill in candidates.get(person, [])]\n",
    "    return all(skill in combined_skills for skill in listSkills) and \\\n",
    "           sum(\"AI\" in candidates[person] for person in solutions) >= 2\n",
    "    \n",
    "# Print the solution by backtracking\n",
    "solution = set(map(tuple, backtrack([])))\n",
    "for solutions in solution:\n",
    "    print(\"Hire Team:\")\n",
    "    for person in solutions:\n",
    "        print(person)\n",
    "    print()"
   ]
  },
  {
   "cell_type": "code",
   "execution_count": null,
   "id": "0bec05ee-8c82-4ed2-ab56-9a9bc385697f",
   "metadata": {},
   "outputs": [],
   "source": []
  },
  {
   "cell_type": "markdown",
   "id": "2bf768f7-120a-4014-b097-b6820c823cdb",
   "metadata": {},
   "source": [
    "## Scenario 2\n",
    "\n",
    "- 2Python\n",
    "- 3 AI\n",
    "- 1 Web\n",
    "- 1 Database\n",
    "- 1 System"
   ]
  },
  {
   "cell_type": "code",
   "execution_count": 55,
   "id": "74ea661e-bc47-4b8c-bfde-716c948f9425",
   "metadata": {
    "jupyter": {
     "source_hidden": true
    }
   },
   "outputs": [],
   "source": [
    "##from constraint import Problem, AllDifferentConstraint\n",
    "\n",
    "# List for the people and their skills\n",
    "#people_skills = {\n",
    "#    \"Ciara\": [\"Python\"],\n",
    "#    \"Peter\": [\"Python\", \"AI\"],\n",
    "#    \"Juan\": [\"Web\", \"AI\"],\n",
    "#    \"Jim\": [\"AI\", \"Systems\"],\n",
    "#    \"Jane\": [\"Python\", \"Database\"],\n",
    "#    \"Mary\": [\"Web\", \"Systems\"],\n",
    "#    \"Bruce\": [\"Systems\", \"Python\"],\n",
    "#    \"Anita\": [\"Web\", \"AI\"]\n",
    "#}\n",
    "\n",
    "# List desired skills\n",
    "#list_skills = [\"Python\", \"AI\", \"Web\", \"Database\", \"Systems\"]\n",
    "\n",
    "# Create a CSP problem\n",
    "##problem = Problem()\n",
    "\n",
    "# Add variables to the problem\n",
    "#for person in people_skills:\n",
    "#    problem.addVariable(person, [0, 1])\n",
    "\n",
    "# Constraint: Select exactly 4 people (besides Ciara and Juan)\n",
    "#problem.addConstraint(lambda *people: sum(people) == 4, list(people_skills.keys()))\n",
    "\n",
    "# Constraint: Ciara and Juan must be selected\n",
    "##problem.addConstraint(lambda ciara, juan: ciara == juan == 1, (\"Ciara\", \"Juan\"))\n",
    "##problem.addConstraint(lambda ciara: ciara == 1, (\"Ciara\",))\n",
    "##problem.addConstraint(lambda juan: juan == 1, (\"Juan\",))\n",
    "\n",
    "\n",
    "# Constraint: Ensure all skills are covered\n",
    "#def skill_constraint(*args):\n",
    "#    selected_people = [person for person, selected in zip(people_skills.keys(), args) if selected]\n",
    "#    selected_skills = set(skill for person in selected_people for skill in people_skills[person])\n",
    "#    return all(skill in selected_skills for skill in list_skills)\n",
    "\n",
    "#problem.addConstraint(skill_constraint, list(people_skills.keys()))\n",
    "\n",
    "# Define the backtrack function\n",
    "#def backtrack(selected_people):\n",
    "#    if len(selected_people) == 4:\n",
    "#        return [tuple(selected_people)]\n",
    "    \n",
    "#    solutions = []\n",
    "#    for person in people_skills.keys():\n",
    "#        if person not in selected_people:\n",
    "#            solutions.extend(backtrack(selected_people + [person]))\n",
    "    \n",
    "#    return solutions\n",
    "\n",
    "# Find all solutions\n",
    "#solutions = problem.getSolutions()\n",
    "\n",
    "# Print unique combinations generated by backtracking\n",
    "#unique_combinations = set(map(tuple, backtrack([])))\n",
    "#for combination in unique_combinations:\n",
    "#    print(\"Combination:\")\n",
    "#    for person in combination:\n",
    "#        print(person)\n",
    "#    print()\n",
    "#"
   ]
  },
  {
   "cell_type": "code",
   "execution_count": 56,
   "id": "1210ece1-3bfb-40c1-b1a2-14441ded896c",
   "metadata": {},
   "outputs": [
    {
     "name": "stdout",
     "output_type": "stream",
     "text": [
      "Combination:\n",
      "Anita\n",
      "Jane\n",
      "Jim\n",
      "Juan\n",
      "\n",
      "Combination:\n",
      "Anita\n",
      "Jane\n",
      "Jim\n",
      "Peter\n",
      "\n",
      "Combination:\n",
      "Jane\n",
      "Jim\n",
      "Juan\n",
      "Peter\n",
      "\n"
     ]
    }
   ],
   "source": [
    "from constraint import Problem\n",
    "\n",
    "# define the variables and domains\n",
    "candidates = {\n",
    "    \"Ciara\": [\"Python\"],\n",
    "    \"Peter\": [\"Python\", \"AI\"],\n",
    "    \"Juan\": [\"Web\", \"AI\"],\n",
    "    \"Jim\": [\"AI\", \"Systems\"],\n",
    "    \"Jane\": [\"Python\", \"Database\"],\n",
    "    \"Mary\": [\"Web\", \"Systems\"],\n",
    "    \"Bruce\": [\"Systems\", \"Python\"],\n",
    "    \"Anita\": [\"Web\", \"AI\"]\n",
    "}\n",
    "\n",
    "# skills requires\n",
    "listSkills = [\"Python\", \"AI\", \"Web\", \"Database\", \"Systems\"]\n",
    "\n",
    "# Constraint satisfaction function\n",
    "# The people with the skill have to be matched\n",
    "## and people have AI skills, have to 3 people\n",
    "def satisfies_constraints(combination):\n",
    "    peopleSelected = [person for person, selected in combination.items() if selected]\n",
    "    combined_skills = [skill for person in peopleSelected for skill in candidates.get(person, [])]\n",
    "    return all(skill in combined_skills for skill in listSkills) and \\\n",
    "           sum(\"AI\" in candidates[person] for person in peopleSelected) >= 3\n",
    "\n",
    "# Create a CSP problem\n",
    "HireTeam = Problem()\n",
    "\n",
    "# Add variables to the HireTeam\n",
    "for person in candidates:\n",
    "    HireTeam.addVariable(person, [0, 1])\n",
    "\n",
    "# 1st Constraint hire 4 people\n",
    "HireTeam.addConstraint(lambda *people: sum(people) == 4, list(candidates.keys()))\n",
    "\n",
    "# 2nd Constraint need check all skills that require\n",
    "solutions = [combination for combination in HireTeam.getSolutions() if satisfies_constraints(combination)]\n",
    "\n",
    "# 3rd Ciara and juan have been selected\n",
    "HireTeam.addConstraint(lambda ciara, juan: ciara == juan == 1, (\"Ciara\", \"Juan\"))\n",
    "\n",
    "\n",
    "# Print unique combinations generated by backtracking\n",
    "for combination in solutions:\n",
    "    print(\"Combination:\")\n",
    "    for person, selected in combination.items():\n",
    "        if selected:\n",
    "            print(person)\n",
    "    print()\n"
   ]
  },
  {
   "cell_type": "markdown",
   "id": "b4605790-e5bf-4fc3-9fde-7f5b99657ee6",
   "metadata": {},
   "source": [
    "## Tasks for Data Visualisation"
   ]
  },
  {
   "cell_type": "markdown",
   "id": "5a011812-2384-4e15-8750-0f583a45aed4",
   "metadata": {},
   "source": [
    "#### Create interactive visualisation(s) to allow a user to explore alternate constraint scenarios"
   ]
  },
  {
   "cell_type": "code",
   "execution_count": 57,
   "id": "16a15ad9-c894-400c-a13c-0758a738a920",
   "metadata": {},
   "outputs": [
    {
     "data": {
      "image/png": "[encoded data removed]",
      "text/plain": [
       "<Figure size 640x480 with 1 Axes>"
      ]
     },
     "metadata": {},
     "output_type": "display_data"
    }
   ],
   "source": [
    "## solution for Scenario 2\n",
    "## import matplotlib to visualize a bar chart\n",
    "import matplotlib.pyplot as plt\n",
    "\n",
    "# Count people who have been Hired for each skill\n",
    "people_selection_counts = {skill: sum(combination[person] for person in candidates if combination[person] and skill in candidates[person]) for skill in listSkills}\n",
    "\n",
    "\n",
    "# Display the number of people for each skill in the bar chart\n",
    "skills = list(people_selection_counts.keys())\n",
    "selection_counts = list(people_selection_counts.values())\n",
    "\n",
    "plt.bar(skills, selection_counts)\n",
    "plt.xlabel('Skills')\n",
    "plt.ylabel('Number of People Are Hired')\n",
    "plt.title('Number of People  Are Hired for Each Skill')\n",
    "plt.show()\n"
   ]
  },
  {
   "cell_type": "code",
   "execution_count": 65,
   "id": "7373f25e-a8ca-4509-8e12-989307c9952a",
   "metadata": {},
   "outputs": [
    {
     "data": {
      "text/plain": [
       "()"
      ]
     },
     "execution_count": 65,
     "metadata": {},
     "output_type": "execute_result"
    }
   ],
   "source": [
    "## GUI for scenario 2\n",
    "\n",
    "import tkinter as tk\n",
    "from constraint import Problem\n",
    "\n",
    "# Define the variables and domains\n",
    "candidates = {\n",
    "    \"Ciara\": [\"Python\"],\n",
    "    \"Peter\": [\"Python\", \"AI\"],\n",
    "    \"Juan\": [\"Web\", \"AI\"],\n",
    "    \"Jim\": [\"AI\", \"Systems\"],\n",
    "    \"Jane\": [\"Python\", \"Database\"],\n",
    "    \"Mary\": [\"Web\", \"Systems\"],\n",
    "    \"Bruce\": [\"Systems\", \"Python\"],\n",
    "    \"Anita\": [\"Web\", \"AI\"]\n",
    "}\n",
    "\n",
    "# Skills required\n",
    "listSkills = [\"Python\", \"AI\", \"Web\", \"Database\", \"Systems\"]\n",
    "\n",
    "# Constraint satisfaction function\n",
    "def satisfies_constraints(combination):\n",
    "    people_selected = [person for person, selected in combination.items() if selected]\n",
    "    combined_skills = [skill for person in people_selected for skill in candidates.get(person, [])]\n",
    "    return all(skill in combined_skills for skill in listSkills) and \\\n",
    "           sum(\"AI\" in candidates[person] for person in people_selected) >= 3\n",
    "\n",
    "# Create a CSP problem\n",
    "HireTeam = Problem()\n",
    "\n",
    "# Add variables to the HireTeam\n",
    "for person in candidates:\n",
    "    HireTeam.addVariable(person, [0, 1])\n",
    "\n",
    "# 1st Constraint: hire 4 people\n",
    "HireTeam.addConstraint(lambda *people: sum(people) == 4, list(candidates.keys()))\n",
    "\n",
    "# 2nd Constraint: need to check all skills that require\n",
    "solutions = [combination for combination in HireTeam.getSolutions() if satisfies_constraints(combination)]\n",
    "\n",
    "# 3rd Constraint: Ciara and Juan have been selected\n",
    "HireTeam.addConstraint(lambda ciara, juan: ciara == juan == 1, (\"Ciara\", \"Juan\"))\n",
    "\n",
    "class GUI:\n",
    "    def __init__(self, root):\n",
    "        self.root = root\n",
    "        self.root.title(\"Scenario 2 GUI solutions\")\n",
    "\n",
    "        self.current_solution_index = 0\n",
    "\n",
    "        ## set label for different solution\n",
    "        self.label = tk.Label(root, text=\"Current Solution:\")\n",
    "        self.label.pack(pady=10)\n",
    "\n",
    "        ## set label for different solution\n",
    "        self.next_button = tk.Button(root, text=\"Next Solution\", command=self.show_next_combination)\n",
    "        self.next_button.pack(pady=10)\n",
    "\n",
    "        self.show_combination()\n",
    "\n",
    "    def show_combination(self):\n",
    "        if 0 <= self.current_solution_index < len(solutions):\n",
    "            current_combination = solutions[self.current_solution_index]\n",
    "            self.label.config(text=f\"Current Combination: {', '.join(person for person, selected in current_combination.items() if selected)}\")\n",
    "        else:\n",
    "            self.label.config(text=\"No more Solution.\")\n",
    "\n",
    "    def show_next_combination(self):\n",
    "        self.current_solution_index += 1\n",
    "        self.show_combination()\n",
    "\n",
    "if __name__ == \"__main__\":\n",
    "    root = tk.Tk()\n",
    "    root.geometry(\"500x500\")  # Set Window size a bit bigger\n",
    "    app = GUI(root)\n",
    "    root.mainloop()\n",
    "()\r\n"
   ]
  },
  {
   "cell_type": "code",
   "execution_count": null,
   "id": "dd821d81-36b6-46b5-b4cc-1590b99ca31e",
   "metadata": {},
   "outputs": [],
   "source": []
  },
  {
   "cell_type": "code",
   "execution_count": null,
   "id": "843defa8-7657-4410-803f-8e485695c65b",
   "metadata": {},
   "outputs": [],
   "source": []
  }
 ],
 "metadata": {
  "kernelspec": {
   "display_name": "Python 3 (ipykernel)",
   "language": "python",
   "name": "python3"
  },
  "language_info": {
   "codemirror_mode": {
    "name": "ipython",
    "version": 3
   },
   "file_extension": ".py",
   "mimetype": "text/x-python",
   "name": "python",
   "nbconvert_exporter": "python",
   "pygments_lexer": "ipython3",
   "version": "3.11.5"
  }
 },
 "nbformat": 4,
 "nbformat_minor": 5
}
