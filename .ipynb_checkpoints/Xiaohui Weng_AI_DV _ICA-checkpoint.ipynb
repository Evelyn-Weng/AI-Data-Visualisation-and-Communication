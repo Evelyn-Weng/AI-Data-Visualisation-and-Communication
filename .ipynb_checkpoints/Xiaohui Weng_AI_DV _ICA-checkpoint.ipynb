{
 "cells": [
  {
   "cell_type": "markdown",
   "id": "ddf15067-3cfd-4ddd-a2ca-8dd0dfda7199",
   "metadata": {},
   "source": [
    "variables:\n",
    "Peter\n",
    "Juan\n",
    "Jim\n",
    "Jane\n",
    "Mary\n",
    "Bruce\n",
    "Anita\n",
    "\n",
    "------\n",
    "\n",
    "Domain:\n",
    "\n",
    "Name \tAbilities\r\n",
    "Peter \tPython and AI\r\n",
    "Juan \tWeb and AI\r\n",
    "Jim \tAI and Systems\r\n",
    "Jane \tPython and Database\r\n",
    "Mary \tWeb and Systems\r\n",
    "Bruce \tSystems and Python\r\n",
    "Anita \tWeb d AI\n",
    "\n",
    "\n",
    "\n",
    "-----\n",
    "Constraint:\n",
    "\n",
    "p(but Ciara know python, so she needs hired 1 more people whos python)ython:2\n",
    "AI:2\n",
    "Web:1\n",
    "Database:1\n",
    "system:1"
   ]
  },
  {
   "cell_type": "code",
   "execution_count": null,
   "id": "96da033b-73da-4354-8704-740214cc31a7",
   "metadata": {},
   "outputs": [],
   "source": []
  },
  {
   "cell_type": "code",
   "execution_count": null,
   "id": "0e323cf5-80ec-4e4d-886c-fcce9a12614b",
   "metadata": {},
   "outputs": [],
   "source": []
  }
 ],
 "metadata": {
  "kernelspec": {
   "display_name": "Python 3 (ipykernel)",
   "language": "python",
   "name": "python3"
  },
  "language_info": {
   "codemirror_mode": {
    "name": "ipython",
    "version": 3
   },
   "file_extension": ".py",
   "mimetype": "text/x-python",
   "name": "python",
   "nbconvert_exporter": "python",
   "pygments_lexer": "ipython3",
   "version": "3.11.5"
  }
 },
 "nbformat": 4,
 "nbformat_minor": 5
}
