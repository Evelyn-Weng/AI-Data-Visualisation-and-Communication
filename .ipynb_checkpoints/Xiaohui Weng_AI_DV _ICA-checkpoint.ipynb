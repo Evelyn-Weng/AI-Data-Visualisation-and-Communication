{
 "cells": [
  {
   "cell_type": "markdown",
   "id": "ddf15067-3cfd-4ddd-a2ca-8dd0dfda7199",
   "metadata": {},
   "source": [
    "- variables:Peter,Juan,Jim,Jane,Mary,Bruce,Anita,Ciaray"
   ]
  },
  {
   "cell_type": "markdown",
   "id": "c1fc461c-9fa3-479e-9d7f-1a56a96ccc63",
   "metadata": {},
   "source": [
    "- Domain:\n",
    "\n",
    "- Name \tAbilities\n",
    "\n",
    "- Peter Python and AI\n",
    "\n",
    "- Juan \tWeb and AI\n",
    "\n",
    "- Jim \tAI and Systems\n",
    "\n",
    "- Jane \tPython and Database\n",
    "\n",
    "- Mary \tWeb and Systems\n",
    "\n",
    "- Bruce Systems and Python\n",
    "\n",
    "- Anita Web and AI"
   ]
  },
  {
   "cell_type": "markdown",
   "id": "dae45954-9d3c-49fa-97b4-8daae2600b56",
   "metadata": {},
   "source": [
    "Constraint\n",
    "\n",
    "- python:2\n",
    "\n",
    "- (but Ciara knows python, so she needs hire 1 more person whos python)\n",
    " \n",
    "- AI:2\n",
    "\n",
    "- Web:1\n",
    "\n",
    "- Database:1\n",
    "\n",
    "- system:1\n",
    "\n",
    "- hire 3 people"
   ]
  },
  {
   "cell_type": "code",
   "execution_count": 2,
   "id": "5d7fa4d9-b92e-4d21-8c6a-c68f00becc2c",
   "metadata": {},
   "outputs": [],
   "source": [
    "##pip install ortools\n",
    "## https://www.youtube.com/watch?v=_e64FiDWvqs\n",
    "## https://www.youtube.com/watch?v=4cCS8rrYT14&list=TLPQMDkwMTIwMjSKwtLQ5WHKDw&index=2\n",
    "## https://developers.google.com/optimization/reference/python/sat/python/cp_model\n",
    "## https://ics.uci.edu/~dechter/courses/ics-275/fall-2020/slides/OR-Tools_CP-SAT_Solver_Tutorial.pdf\n"
   ]
  },
  {
   "cell_type": "code",
   "execution_count": 5,
   "id": "e506de16-12d4-43e0-a1b2-e0d897ddc2bb",
   "metadata": {},
   "outputs": [],
   "source": [
    "from ortools.sat.python import cp_model\n",
    "from itertools import combinations\n",
    "\n",
    "# define the variables and domains\n",
    "candidates = {\n",
    "    \"Peter\": [\"Python\", \"AI\"],\n",
    "    \"Juan\": [\"Web\", \"AI\"],\n",
    "    \"Jim\": [\"AI\", \"Systems\"],\n",
    "    \"Jane\": [\"Python\", \"Database\"],\n",
    "    \"Mary\": [\"Web\", \"Systems\"],\n",
    "    \"Bruce\": [\"Systems\", \"Python\"],\n",
    "    \"Anita\": [\"Web\", \"AI\"],\n",
    "    \"Ciara\": [\"Python\"]\n",
    "}\n",
    "\n",
    "# skills requires\n",
    "listSkills = [\"Python\", \"AI\", \"Web\", \"Database\", \"Systems\"]"
   ]
  },
  {
   "cell_type": "code",
   "execution_count": 6,
   "id": "f4298284-40d9-48a0-9319-4a0f8a9be852",
   "metadata": {},
   "outputs": [],
   "source": [
    "# Create a HireTeam CP model\n",
    "HireTeam = cp_model.CpModel()\n",
    "\n",
    "# peopleSelected: 0 if not selected, 1 if selected\n",
    "peopleSelected = {person: HireTeam.NewBoolVar(person) for person in candidates}"
   ]
  },
  {
   "cell_type": "code",
   "execution_count": 7,
   "id": "12908ec3-0293-487b-ab13-c39bb3ad5092",
   "metadata": {},
   "outputs": [
    {
     "name": "stdout",
     "output_type": "stream",
     "text": [
      "Hire Team:\n",
      "Anita\n",
      "Jane\n",
      "Jim\n",
      "\n",
      "Hire Team:\n",
      "Jane\n",
      "Jim\n",
      "Juan\n",
      "\n"
     ]
    }
   ],
   "source": [
    "# 1st constraint, Ciara has Python skill\n",
    "HireTeam.Add(peopleSelected[\"Ciara\"] == 1)\n",
    "\n",
    "# 2nd constrain, hire 3 people\n",
    "# and sumup the number is people who have been selected\n",
    "HireTeam.Add(sum(peopleSelected.values()) == 3)\n",
    "\n",
    "# Constraint need check all skills that require\n",
    "for skill in listSkills:\n",
    "    HireTeam.Add(sum(peopleSelected[person] for person, skills in candidates.items() if skill in skills) >= 1)\n",
    "\n",
    "# Backtracking function with constraint checking\n",
    "def backtrack(assignment, start_index=0):\n",
    "    if len(assignment) == 3 and satisfies_constraints(assignment):\n",
    "        return [sorted(assignment)]  # Sort the result\n",
    "    else:\n",
    "        result = []\n",
    "        for person in peopleSelected.keys():\n",
    "            if person not in assignment:\n",
    "                result.extend(backtrack(assignment + [person], start_index))\n",
    "        return result\n",
    "\n",
    "# Constraint satisfaction function\n",
    "def satisfies_constraints(solutions):\n",
    "    combined_skills = [skill for person in solutions for skill in candidates.get(person, [])]\n",
    "    return all(skill in combined_skills for skill in listSkills) and \\\n",
    "           sum(\"AI\" in candidates[person] for person in solutions) >= 2\n",
    "    \n",
    "# Print the solution by backtracking\n",
    "solution = set(map(tuple, backtrack([])))\n",
    "for solutions in solution:\n",
    "    print(\"Hire Team:\")\n",
    "    for person in solutions:\n",
    "        print(person)\n",
    "    print()"
   ]
  },
  {
   "cell_type": "code",
   "execution_count": 9,
   "id": "0bec05ee-8c82-4ed2-ab56-9a9bc385697f",
   "metadata": {
    "jupyter": {
     "source_hidden": true
    }
   },
   "outputs": [],
   "source": [
    "##from constraint import Problem\n",
    "\n",
    "# Create the problem\n",
    "##problem = Problem()\n",
    "\n",
    "# Add variables for each person with values 0 (not selected) or 1 (selected)\n",
    "##for person in candidates:\n",
    "##    problem.addVariable(person, [0, 1])\n",
    "\n",
    "# Add constraint: Ciara has Python skill\n",
    "##problem.addConstraint(lambda ciara: ciara == 1, (\"Ciara\",))\n",
    "\n",
    "# Add constraint: Hire 3 people\n",
    "##problem.addConstraint(lambda *people: sum(people) == 3, candidates.keys())\n",
    "\n",
    "# Add constraint: Each required skill should be covered\n",
    "##for skill in listSkills:\n",
    "##    problem.addConstraint(lambda *people: sum(people) >= 1,\n",
    "##                          [person for person, skills in candidates.items() if skill in skills])\n",
    "\n",
    "# Add constraint: At least 2 people with AI skill\n",
    "##problem.addConstraint(lambda *people: sum(people) >= 2,\n",
    "##                      [person for person, skills in candidates.items() if \"AI\" in skills])\n",
    "\n",
    "# Find solutions\n",
    "##solutions = problem.getSolutions()\n",
    "\n",
    "# Print the solutions\n",
    "##if solutions:\n",
    "    ##print(\"Hire Team:\")\n",
    "    ##for person in candidates:\n",
    "      ##  if solutions[0][person] == 1:\n",
    "    ##        print(person)\n",
    "##else:\n",
    "  ##  print(\"No solution found.\")\n",
    "\n",
    "\n",
    "##for solutions in solution:\n",
    "##    print(\"Hire Team:\")\n",
    "##    for person in solutions:\n",
    "##        print(person)\n",
    "##    print()"
   ]
  },
  {
   "cell_type": "code",
   "execution_count": null,
   "id": "0792af37-e2db-4847-86f0-d997a36dd69f",
   "metadata": {},
   "outputs": [],
   "source": []
  }
 ],
 "metadata": {
  "kernelspec": {
   "display_name": "Python 3 (ipykernel)",
   "language": "python",
   "name": "python3"
  },
  "language_info": {
   "codemirror_mode": {
    "name": "ipython",
    "version": 3
   },
   "file_extension": ".py",
   "mimetype": "text/x-python",
   "name": "python",
   "nbconvert_exporter": "python",
   "pygments_lexer": "ipython3",
   "version": "3.11.5"
  }
 },
 "nbformat": 4,
 "nbformat_minor": 5
}
