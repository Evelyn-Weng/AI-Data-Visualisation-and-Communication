{
 "cells": [
  {
   "cell_type": "markdown",
   "id": "ddf15067-3cfd-4ddd-a2ca-8dd0dfda7199",
   "metadata": {},
   "source": [
    "variables:\n",
    "Peter\n",
    "Juan\n",
    "Jim\n",
    "Jane\n",
    "Mary\n",
    "Bruce\n",
    "Anita\n",
    "\n",
    "------\n",
    "\n",
    "Domain:\n",
    "\n",
    "Name \tAbilities\r\n",
    "Peter \tPython and AI\r\n",
    "Juan \tWeb and AI\r\n",
    "Jim \tAI and Systems\r\n",
    "Jane \tPython and Database\r\n",
    "Mary \tWeb and Systems\r\n",
    "Bruce \tSystems and Python\r\n",
    "Anita \tWeb d AI\n",
    "\n",
    "\n",
    "\n",
    "-----\n",
    "Constraint:\n",
    "\n",
    "p(but Ciara know python, so she needs hired 1 more people whos python)ython:2\n",
    "AI:2\n",
    "Web:1\n",
    "Database:1\n",
    "s\n",
    "ystem:1"
   ]
  },
  {
   "cell_type": "code",
   "execution_count": 51,
   "id": "0e323cf5-80ec-4e4d-886c-fcce9a12614b",
   "metadata": {},
   "outputs": [],
   "source": [
    "from constraint import Problem, AllDifferentConstraint\n",
    "\n",
    "def hire_team():\n",
    "    # Create a CSP problem instance\n",
    "    problem = Problem()\n",
    "\n",
    "    # Define variables and their domains\n",
    "    candidates = {\n",
    "        'Peter': ['Python', 'AI'],\n",
    "        'Juan': ['Web', 'AI'],\n",
    "        'Jim': ['AI', 'Systems'],\n",
    "        'Jane': ['Python', 'Database'],\n",
    "        'Mary': ['Web', 'Systems'],\n",
    "        'Bruce': ['Systems', 'Python'],\n",
    "        'Anita': ['Web', 'AI']\n",
    "    }\n",
    "\n",
    "    # Add variables to the problem\n",
    "    for candidate, domains in candidates.items():\n",
    "        problem.addVariable(candidate, domains)\n",
    "\n",
    "    # Add constraint: Hire 1 person who knows Python\n",
    "    problem.addConstraint(lambda *args: sum('Python' in candidates[c] for c in args) == 1, candidates.keys())\n",
    "\n",
    "    # Add constraint: Hire 2 people who know AI\n",
    "    problem.addConstraint(lambda *args: sum('AI' in candidates[c] for c in args) == 2, candidates.keys())\n",
    "\n",
    "    # Add constraint: Hire 1 person who knows Web\n",
    "    problem.addConstraint(lambda *args: sum('Web' in candidates[c] for c in args) == 1, candidates.keys())\n",
    "\n",
    "    # Add constraint: Hire 1 person who knows Database\n",
    "    problem.addConstraint(lambda *args: sum('Database' in candidates[c] for c in args) == 1, candidates.keys())\n",
    "\n",
    "    # Add constraint: Hire 1 person who knows Systems\n",
    "    problem.addConstraint(lambda *args: sum('Systems' in candidates[c] for c in args) == 1, candidates.keys())\n",
    "\n",
    "    # Add constraint: Only 3 people should be hired\n",
    "    problem.addConstraint(AllDifferentConstraint(), candidates.keys())\n",
    "\n",
    "    # Solve the problem\n",
    "    solutions = problem.getSolutions()\n",
    "\n",
    "    # Print the solutions\n",
    "    for solution in solutions:\n",
    "        print(solution)\n",
    "\n",
    "## if __name__ == \"__main__\":\n",
    "   ## hire_team()\n",
    "\n"
   ]
  },
  {
   "cell_type": "code",
   "execution_count": 55,
   "id": "e8e21b6e-38b1-4b0b-823a-78570d2996e1",
   "metadata": {},
   "outputs": [
    {
     "name": "stdout",
     "output_type": "stream",
     "text": [
      "Requirement already satisfied: python-constraint in c:\\users\\xiaoh\\anaconda3\\lib\\site-packages (1.4.0)\n",
      "Note: you may need to restart the kernel to use updated packages.\n"
     ]
    }
   ],
   "source": [
    "##pip install python-constraint"
   ]
  },
  {
   "cell_type": "code",
   "execution_count": 5,
   "id": "faac2e98-9a0b-45f0-9360-0b53641b345d",
   "metadata": {},
   "outputs": [
    {
     "ename": "ModuleNotFoundError",
     "evalue": "No module named 'csp'",
     "output_type": "error",
     "traceback": [
      "\u001b[1;31m---------------------------------------------------------------------------\u001b[0m",
      "\u001b[1;31mModuleNotFoundError\u001b[0m                       Traceback (most recent call last)",
      "Cell \u001b[1;32mIn[5], line 1\u001b[0m\n\u001b[1;32m----> 1\u001b[0m \u001b[38;5;28;01mimport\u001b[39;00m \u001b[38;5;21;01mcsp\u001b[39;00m\n\u001b[0;32m      2\u001b[0m \u001b[38;5;28;01mfrom\u001b[39;00m \u001b[38;5;21;01mcsp\u001b[39;00m \u001b[38;5;28;01mimport\u001b[39;00m Constraint, CSP\n",
      "\u001b[1;31mModuleNotFoundError\u001b[0m: No module named 'csp'"
     ]
    }
   ],
   "source": [
    "import csp\n",
    "from csp import Constraint, CSP"
   ]
  },
  {
   "cell_type": "code",
   "execution_count": null,
   "id": "7390b000-7a83-4528-a5ea-b69d29507ef6",
   "metadata": {},
   "outputs": [],
   "source": [
    "from typing import List, Dict, Optional"
   ]
  },
  {
   "cell_type": "code",
   "execution_count": 6,
   "id": "4e5a29d8-caf9-4a85-924b-e5ef075ab308",
   "metadata": {},
   "outputs": [
    {
     "ename": "ImportError",
     "evalue": "cannot import name 'CSP' from 'constraint' (C:\\Users\\xiaoh\\anaconda3\\Lib\\site-packages\\constraint\\__init__.py)",
     "output_type": "error",
     "traceback": [
      "\u001b[1;31m---------------------------------------------------------------------------\u001b[0m",
      "\u001b[1;31mImportError\u001b[0m                               Traceback (most recent call last)",
      "Cell \u001b[1;32mIn[6], line 2\u001b[0m\n\u001b[0;32m      1\u001b[0m \u001b[38;5;28;01mfrom\u001b[39;00m \u001b[38;5;21;01mtyping\u001b[39;00m \u001b[38;5;28;01mimport\u001b[39;00m List, Dict, Optional\n\u001b[1;32m----> 2\u001b[0m \u001b[38;5;28;01mfrom\u001b[39;00m \u001b[38;5;21;01mconstraint\u001b[39;00m \u001b[38;5;28;01mimport\u001b[39;00m Problem, CSP\n\u001b[0;32m      4\u001b[0m \u001b[38;5;28;01mclass\u001b[39;00m \u001b[38;5;21;01mOfficeConstraint\u001b[39;00m(Constraint[\u001b[38;5;28mstr\u001b[39m, \u001b[38;5;28mstr\u001b[39m]):\n\u001b[0;32m      5\u001b[0m     \u001b[38;5;28;01mdef\u001b[39;00m \u001b[38;5;21m__init__\u001b[39m(\u001b[38;5;28mself\u001b[39m, domain1: \u001b[38;5;28mstr\u001b[39m, domain2: \u001b[38;5;28mstr\u001b[39m) \u001b[38;5;241m-\u001b[39m\u001b[38;5;241m>\u001b[39m \u001b[38;5;28;01mNone\u001b[39;00m:\n",
      "\u001b[1;31mImportError\u001b[0m: cannot import name 'CSP' from 'constraint' (C:\\Users\\xiaoh\\anaconda3\\Lib\\site-packages\\constraint\\__init__.py)"
     ]
    }
   ],
   "source": [
    "class OfficeConstraint(Constraint[str, str]):\n",
    "    def __init__(self, domain1: str, domain2: str) -> None:\n",
    "        super().__init__([domain1, domain2])\n",
    "        self.domain1: str = domain1\n",
    "        self.domain2: str = domain2\n",
    "\n",
    "    def satisfied(self, assignment: Dict[str, str]) -> bool:\n",
    "        if self.domain1 not in assignment or self.domain2 not in assignment:\n",
    "            return True\n",
    "        # Check if the officer assigned to domain1 is not the same as the\n",
    "        # officer assigned to domain2\n",
    "        return assignment[self.domain1] != assignment[self.domain2]\n",
    "\n",
    "if __name__ == \"__main__\":\n",
    "    variables: List[str] = [\"Peter\", \"Juan\", \"Jim\", \"Jane\", \"Mary\", \"Bruce\", \"Anita\"]\n",
    "    domains: Dict[str, List[str]] = {}\n",
    "    for variable in variables:\n",
    "        domains[variable] = ['Python', 'AI', 'Web', 'Database', 'Systems']\n",
    "\n",
    "    csp: CSP[str, str] = CSP(variables, domains)\n",
    "\n",
    "    # Add constraints for the specific roles\n",
    "    csp.add_constraint(OfficeConstraint(\"Peter\", \"Juan\"))\n",
    "    csp.add_constraint(OfficeConstraint(\"Peter\", \"Jim\"))\n",
    "    csp.add_constraint(OfficeConstraint(\"Juan\", \"Jim\"))\n",
    "    csp.add_constraint(OfficeConstraint(\"Jane\", \"Mary\"))\n",
    "    csp.add_constraint(OfficeConstraint(\"Bruce\", \"Mary\"))\n",
    "    csp.add_constraint(OfficeConstraint(\"Bruce\", \"Anita\"))\n",
    "\n",
    "    # Solve the problem\n",
    "    solution: Optional[Dict[str, str]] = csp.getSolution()\n",
    "    \n",
    "    if solution is None:\n",
    "        print(\"No solution found!\")\n",
    "    else:\n",
    "        print(solution)\n"
   ]
  },
  {
   "cell_type": "code",
   "execution_count": null,
   "id": "76a62982-b265-4aa9-b19e-4c2075d0c01f",
   "metadata": {},
   "outputs": [],
   "source": []
  }
 ],
 "metadata": {
  "kernelspec": {
   "display_name": "Python 3 (ipykernel)",
   "language": "python",
   "name": "python3"
  },
  "language_info": {
   "codemirror_mode": {
    "name": "ipython",
    "version": 3
   },
   "file_extension": ".py",
   "mimetype": "text/x-python",
   "name": "python",
   "nbconvert_exporter": "python",
   "pygments_lexer": "ipython3",
   "version": "3.11.5"
  }
 },
 "nbformat": 4,
 "nbformat_minor": 5
}
